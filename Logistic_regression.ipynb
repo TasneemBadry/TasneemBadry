{
  "nbformat": 4,
  "nbformat_minor": 0,
  "metadata": {
    "colab": {
      "provenance": [],
      "include_colab_link": true
    },
    "kernelspec": {
      "name": "python3",
      "display_name": "Python 3"
    }
  },
  "cells": [
    {
      "cell_type": "markdown",
      "metadata": {
        "id": "view-in-github",
        "colab_type": "text"
      },
      "source": [
        "<a href=\"https://colab.research.google.com/github/TasneemBadry/TasneemBadry/blob/main/Logistic_regression.ipynb\" target=\"_parent\"><img src=\"https://colab.research.google.com/assets/colab-badge.svg\" alt=\"Open In Colab\"/></a>"
      ]
    },
    {
      "cell_type": "markdown",
      "metadata": {
        "id": "SA8KXVAXm89L"
      },
      "source": [
        "**Logistic regression and Keras for classification**\n",
        "\n",
        "https://aigeekprogrammer.com/binary-classification-using-logistic-regression-and-keras/"
      ]
    },
    {
      "cell_type": "code",
      "metadata": {
        "colab": {
          "base_uri": "https://localhost:8080/"
        },
        "id": "5NDNcqKFm8QT",
        "outputId": "d02a6872-a983-4a7d-da96-69626b07d6b9"
      },
      "source": [
        "import numpy as np\n",
        "from tensorflow import keras\n",
        "print (keras.__version__)"
      ],
      "execution_count": null,
      "outputs": [
        {
          "output_type": "stream",
          "text": [
            "2.4.0\n"
          ],
          "name": "stdout"
        }
      ]
    },
    {
      "cell_type": "code",
      "metadata": {
        "colab": {
          "base_uri": "https://localhost:8080/"
        },
        "id": "XKv6pUV1m9sg",
        "outputId": "27728d38-f221-43c5-9e1a-a68ce916bfe8"
      },
      "source": [
        "from keras.datasets import mnist\n",
        "\n",
        "#We import data into variables and check their shape.\n",
        "\n",
        "(x_train, y_train), (x_test, y_test) = mnist.load_data()\n",
        "x_train.shape"
      ],
      "execution_count": null,
      "outputs": [
        {
          "output_type": "stream",
          "text": [
            "Downloading data from https://storage.googleapis.com/tensorflow/tf-keras-datasets/mnist.npz\n",
            "11493376/11490434 [==============================] - 0s 0us/step\n"
          ],
          "name": "stdout"
        },
        {
          "output_type": "execute_result",
          "data": {
            "text/plain": [
              "(60000, 28, 28)"
            ]
          },
          "metadata": {
            "tags": []
          },
          "execution_count": 2
        }
      ]
    },
    {
      "cell_type": "code",
      "metadata": {
        "colab": {
          "base_uri": "https://localhost:8080/"
        },
        "id": "G8JKbHbboBxK",
        "outputId": "b909ef31-c8e5-4631-8d2d-7f0dc1d65f21"
      },
      "source": [
        "y_train.shape"
      ],
      "execution_count": null,
      "outputs": [
        {
          "output_type": "execute_result",
          "data": {
            "text/plain": [
              "(60000,)"
            ]
          },
          "metadata": {
            "tags": []
          },
          "execution_count": 3
        }
      ]
    },
    {
      "cell_type": "code",
      "metadata": {
        "colab": {
          "base_uri": "https://localhost:8080/"
        },
        "id": "kbLwTYk5oB0H",
        "outputId": "5395c5cb-6df1-4eee-9987-6d6ae79ab483"
      },
      "source": [
        "y_train[0:10]"
      ],
      "execution_count": null,
      "outputs": [
        {
          "output_type": "execute_result",
          "data": {
            "text/plain": [
              "array([5, 0, 4, 1, 9, 2, 1, 3, 1, 4], dtype=uint8)"
            ]
          },
          "metadata": {
            "tags": []
          },
          "execution_count": 4
        }
      ]
    },
    {
      "cell_type": "code",
      "metadata": {
        "colab": {
          "base_uri": "https://localhost:8080/"
        },
        "id": "jwB2nS2QoB3Z",
        "outputId": "80ac745b-6de6-4e17-fdec-e9bad8e2c46b"
      },
      "source": [
        "#we create new variables that contain only zeros and ones.\n",
        "\n",
        "x_train_new, y_train_new = x_train[(y_train==0) | (y_train==1)], y_train[(y_train==0) | (y_train==1)]\n",
        "\n",
        "#Let’s check the shape of the new variables.\n",
        "\n",
        "x_train_new.shape"
      ],
      "execution_count": null,
      "outputs": [
        {
          "output_type": "execute_result",
          "data": {
            "text/plain": [
              "(12665, 28, 28)"
            ]
          },
          "metadata": {
            "tags": []
          },
          "execution_count": 5
        }
      ]
    },
    {
      "cell_type": "code",
      "metadata": {
        "colab": {
          "base_uri": "https://localhost:8080/"
        },
        "id": "CNAbyHSkoB6B",
        "outputId": "afd89b13-c826-46a0-dae0-197e87565519"
      },
      "source": [
        "y_train[0:10]"
      ],
      "execution_count": null,
      "outputs": [
        {
          "output_type": "execute_result",
          "data": {
            "text/plain": [
              "array([5, 0, 4, 1, 9, 2, 1, 3, 1, 4], dtype=uint8)"
            ]
          },
          "metadata": {
            "tags": []
          },
          "execution_count": 6
        }
      ]
    },
    {
      "cell_type": "code",
      "metadata": {
        "colab": {
          "base_uri": "https://localhost:8080/"
        },
        "id": "RJNswhHkoB89",
        "outputId": "f432bc19-fb18-4771-da18-5160e6c37fed"
      },
      "source": [
        "#we need to flatten data into two dimensions only: index and flattened image data (28 * 28 = 784).\n",
        "\n",
        "x_train_final = x_train_new.reshape((-1, 784))\n",
        "x_train_final.shape"
      ],
      "execution_count": null,
      "outputs": [
        {
          "output_type": "execute_result",
          "data": {
            "text/plain": [
              "(12665, 784)"
            ]
          },
          "metadata": {
            "tags": []
          },
          "execution_count": 7
        }
      ]
    },
    {
      "cell_type": "code",
      "metadata": {
        "colab": {
          "base_uri": "https://localhost:8080/"
        },
        "id": "ajqJCSIPovFf",
        "outputId": "15d941e2-ade7-4b10-d69b-6b5e2bdb6dc5"
      },
      "source": [
        "#A similar sequence of operations we perform for the test set.\n",
        "\n",
        "x_test_new, y_test_new = x_test[(y_test==0) | (y_test==1)], y_test[(y_test==0) | (y_test==1)]\n",
        "x_test_new.shape"
      ],
      "execution_count": null,
      "outputs": [
        {
          "output_type": "execute_result",
          "data": {
            "text/plain": [
              "(2115, 28, 28)"
            ]
          },
          "metadata": {
            "tags": []
          },
          "execution_count": 8
        }
      ]
    },
    {
      "cell_type": "code",
      "metadata": {
        "id": "kqk5lrgkovJI"
      },
      "source": [
        "x_test_final = x_test_new.reshape((-1, 784))\n"
      ],
      "execution_count": null,
      "outputs": []
    },
    {
      "cell_type": "code",
      "metadata": {
        "id": "VqgGpBjAovL3"
      },
      "source": [
        "#The last element of data preprocessing is their normalization.\n",
        "\n",
        "x_train_final = x_train_final / 255\n",
        "x_test_final = x_test_final / 255"
      ],
      "execution_count": null,
      "outputs": []
    },
    {
      "cell_type": "markdown",
      "metadata": {
        "id": "xgiNYlFqpeR0"
      },
      "source": [
        "Model:   polynomial value: x1 * w1 + x2 * w2 + … + x784 * w784"
      ]
    },
    {
      "cell_type": "code",
      "metadata": {
        "colab": {
          "base_uri": "https://localhost:8080/"
        },
        "id": "-_lIWZaeovOR",
        "outputId": "cd9bf717-b34e-438b-8414-945907b7833a"
      },
      "source": [
        "model = keras.Sequential()\n",
        "keras.layers.Dense(1, input_shape=(784,), activation='sigmoid')"
      ],
      "execution_count": null,
      "outputs": [
        {
          "output_type": "execute_result",
          "data": {
            "text/plain": [
              "<tensorflow.python.keras.layers.core.Dense at 0x7fbe3c9b83c8>"
            ]
          },
          "metadata": {
            "tags": []
          },
          "execution_count": 16
        }
      ]
    },
    {
      "cell_type": "code",
      "metadata": {
        "id": "_oPxy8UBpmJ2"
      },
      "source": [
        "model.compile(optimizer='sgd', loss='binary_crossentropy', metrics=['binary_accuracy'])"
      ],
      "execution_count": null,
      "outputs": []
    },
    {
      "cell_type": "code",
      "metadata": {
        "colab": {
          "base_uri": "https://localhost:8080/"
        },
        "id": "sTTGaqADpmMt",
        "outputId": "371032c2-c25c-4d5d-e170-4d8f38b5a70b"
      },
      "source": [
        "model.fit(\n",
        "  x=x_train_final,\n",
        "  y=y_train_new,\n",
        "  shuffle=True,\n",
        "  epochs=10,\n",
        "  batch_size=16\n",
        ")"
      ],
      "execution_count": null,
      "outputs": [
        {
          "output_type": "stream",
          "text": [
            "Epoch 1/10\n",
            "792/792 [==============================] - 1s 1ms/step - loss: 7.6952 - binary_accuracy: 0.4265\n",
            "Epoch 2/10\n",
            "792/792 [==============================] - 1s 1ms/step - loss: 7.6951 - binary_accuracy: 0.4265\n",
            "Epoch 3/10\n",
            "792/792 [==============================] - 1s 1ms/step - loss: 7.6951 - binary_accuracy: 0.4265\n",
            "Epoch 4/10\n",
            "792/792 [==============================] - 1s 1ms/step - loss: 7.6951 - binary_accuracy: 0.4265\n",
            "Epoch 5/10\n",
            "792/792 [==============================] - 1s 1ms/step - loss: 7.6952 - binary_accuracy: 0.4265\n",
            "Epoch 6/10\n",
            "792/792 [==============================] - 1s 1ms/step - loss: 7.6951 - binary_accuracy: 0.4265\n",
            "Epoch 7/10\n",
            "792/792 [==============================] - 1s 1ms/step - loss: 7.6951 - binary_accuracy: 0.4265\n",
            "Epoch 8/10\n",
            "792/792 [==============================] - 1s 1ms/step - loss: 7.6951 - binary_accuracy: 0.4265\n",
            "Epoch 9/10\n",
            "792/792 [==============================] - 1s 998us/step - loss: 7.6951 - binary_accuracy: 0.4265\n",
            "Epoch 10/10\n",
            "792/792 [==============================] - 1s 1ms/step - loss: 7.6951 - binary_accuracy: 0.4265\n"
          ],
          "name": "stdout"
        },
        {
          "output_type": "execute_result",
          "data": {
            "text/plain": [
              "<tensorflow.python.keras.callbacks.History at 0x7fbe373eb4a8>"
            ]
          },
          "metadata": {
            "tags": []
          },
          "execution_count": 19
        }
      ]
    },
    {
      "cell_type": "code",
      "metadata": {
        "colab": {
          "base_uri": "https://localhost:8080/"
        },
        "id": "R42mRw_MpmUY",
        "outputId": "db09e03c-4f7c-4855-ddb3-8926a1157767"
      },
      "source": [
        "eval = model.evaluate(x=x_test_final, y=y_test_new)"
      ],
      "execution_count": null,
      "outputs": [
        {
          "output_type": "stream",
          "text": [
            "67/67 [==============================] - 0s 1ms/step - loss: 7.7541 - binary_accuracy: 0.4241\n"
          ],
          "name": "stdout"
        }
      ]
    }
  ]
}