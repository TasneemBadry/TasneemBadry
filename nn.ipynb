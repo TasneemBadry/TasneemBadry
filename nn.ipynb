{
  "cells": [
    {
      "cell_type": "markdown",
      "metadata": {
        "id": "view-in-github",
        "colab_type": "text"
      },
      "source": [
        "<a href=\"https://colab.research.google.com/github/TasneemBadry/TasneemBadry/blob/main/nn.ipynb\" target=\"_parent\"><img src=\"https://colab.research.google.com/assets/colab-badge.svg\" alt=\"Open In Colab\"/></a>"
      ]
    },
    {
      "cell_type": "code",
      "execution_count": null,
      "id": "3fa75826",
      "metadata": {
        "id": "3fa75826"
      },
      "outputs": [],
      "source": [
        "import numpy as np\n",
        "import pandas as pd\n",
        "\n",
        "import seaborn as sns\n",
        "import plotly.express as px\n",
        "import matplotlib.pyplot as plt\n",
        "#matplotlib inline\n",
        "\n",
        "import sklearn\n",
        "from sklearn.metrics import accuracy_score\n",
        "from sklearn.preprocessing import StandardScaler\n",
        "from sklearn.metrics import ConfusionMatrixDisplay\n",
        "from sklearn.model_selection import train_test_split, GridSearchCV, cross_val_score\n",
        "from sklearn.metrics import f1_score, recall_score, precision_score, confusion_matrix\n",
        "from sklearn.metrics import r2_score, roc_auc_score, roc_curve, classification_report\n",
        "from sklearn.neural_network import MLPClassifier\n",
        "from sklearn.preprocessing import MinMaxScaler\n",
        "\n",
        "import warnings\n",
        "warnings.filterwarnings('ignore')"
      ]
    },
    {
      "cell_type": "code",
      "execution_count": null,
      "id": "90a635fa",
      "metadata": {
        "id": "90a635fa",
        "outputId": "e79375db-9712-46c4-c4db-ed7d13814120"
      },
      "outputs": [
        {
          "data": {
            "text/html": [
              "<div>\n",
              "<style scoped>\n",
              "    .dataframe tbody tr th:only-of-type {\n",
              "        vertical-align: middle;\n",
              "    }\n",
              "\n",
              "    .dataframe tbody tr th {\n",
              "        vertical-align: top;\n",
              "    }\n",
              "\n",
              "    .dataframe thead th {\n",
              "        text-align: right;\n",
              "    }\n",
              "</style>\n",
              "<table border=\"1\" class=\"dataframe\">\n",
              "  <thead>\n",
              "    <tr style=\"text-align: right;\">\n",
              "      <th></th>\n",
              "      <th>age</th>\n",
              "      <th>anaemia</th>\n",
              "      <th>creatinine_phosphokinase</th>\n",
              "      <th>diabetes</th>\n",
              "      <th>ejection_fraction</th>\n",
              "      <th>high_blood_pressure</th>\n",
              "      <th>platelets</th>\n",
              "      <th>serum_creatinine</th>\n",
              "      <th>serum_sodium</th>\n",
              "      <th>sex</th>\n",
              "      <th>smoking</th>\n",
              "      <th>time</th>\n",
              "      <th>DEATH_EVENT</th>\n",
              "    </tr>\n",
              "  </thead>\n",
              "  <tbody>\n",
              "    <tr>\n",
              "      <th>0</th>\n",
              "      <td>75.0</td>\n",
              "      <td>0</td>\n",
              "      <td>582</td>\n",
              "      <td>0</td>\n",
              "      <td>20</td>\n",
              "      <td>1</td>\n",
              "      <td>265000.00</td>\n",
              "      <td>1.9</td>\n",
              "      <td>130</td>\n",
              "      <td>1</td>\n",
              "      <td>0</td>\n",
              "      <td>4</td>\n",
              "      <td>1</td>\n",
              "    </tr>\n",
              "    <tr>\n",
              "      <th>1</th>\n",
              "      <td>55.0</td>\n",
              "      <td>0</td>\n",
              "      <td>7861</td>\n",
              "      <td>0</td>\n",
              "      <td>38</td>\n",
              "      <td>0</td>\n",
              "      <td>263358.03</td>\n",
              "      <td>1.1</td>\n",
              "      <td>136</td>\n",
              "      <td>1</td>\n",
              "      <td>0</td>\n",
              "      <td>6</td>\n",
              "      <td>1</td>\n",
              "    </tr>\n",
              "    <tr>\n",
              "      <th>2</th>\n",
              "      <td>65.0</td>\n",
              "      <td>0</td>\n",
              "      <td>146</td>\n",
              "      <td>0</td>\n",
              "      <td>20</td>\n",
              "      <td>0</td>\n",
              "      <td>162000.00</td>\n",
              "      <td>1.3</td>\n",
              "      <td>129</td>\n",
              "      <td>1</td>\n",
              "      <td>1</td>\n",
              "      <td>7</td>\n",
              "      <td>1</td>\n",
              "    </tr>\n",
              "    <tr>\n",
              "      <th>3</th>\n",
              "      <td>50.0</td>\n",
              "      <td>1</td>\n",
              "      <td>111</td>\n",
              "      <td>0</td>\n",
              "      <td>20</td>\n",
              "      <td>0</td>\n",
              "      <td>210000.00</td>\n",
              "      <td>1.9</td>\n",
              "      <td>137</td>\n",
              "      <td>1</td>\n",
              "      <td>0</td>\n",
              "      <td>7</td>\n",
              "      <td>1</td>\n",
              "    </tr>\n",
              "    <tr>\n",
              "      <th>4</th>\n",
              "      <td>65.0</td>\n",
              "      <td>1</td>\n",
              "      <td>160</td>\n",
              "      <td>1</td>\n",
              "      <td>20</td>\n",
              "      <td>0</td>\n",
              "      <td>327000.00</td>\n",
              "      <td>2.7</td>\n",
              "      <td>116</td>\n",
              "      <td>0</td>\n",
              "      <td>0</td>\n",
              "      <td>8</td>\n",
              "      <td>1</td>\n",
              "    </tr>\n",
              "    <tr>\n",
              "      <th>5</th>\n",
              "      <td>90.0</td>\n",
              "      <td>1</td>\n",
              "      <td>47</td>\n",
              "      <td>0</td>\n",
              "      <td>40</td>\n",
              "      <td>1</td>\n",
              "      <td>204000.00</td>\n",
              "      <td>2.1</td>\n",
              "      <td>132</td>\n",
              "      <td>1</td>\n",
              "      <td>1</td>\n",
              "      <td>8</td>\n",
              "      <td>1</td>\n",
              "    </tr>\n",
              "    <tr>\n",
              "      <th>6</th>\n",
              "      <td>75.0</td>\n",
              "      <td>1</td>\n",
              "      <td>246</td>\n",
              "      <td>0</td>\n",
              "      <td>15</td>\n",
              "      <td>0</td>\n",
              "      <td>127000.00</td>\n",
              "      <td>1.2</td>\n",
              "      <td>137</td>\n",
              "      <td>1</td>\n",
              "      <td>0</td>\n",
              "      <td>10</td>\n",
              "      <td>1</td>\n",
              "    </tr>\n",
              "    <tr>\n",
              "      <th>7</th>\n",
              "      <td>60.0</td>\n",
              "      <td>1</td>\n",
              "      <td>315</td>\n",
              "      <td>1</td>\n",
              "      <td>60</td>\n",
              "      <td>0</td>\n",
              "      <td>454000.00</td>\n",
              "      <td>1.1</td>\n",
              "      <td>131</td>\n",
              "      <td>1</td>\n",
              "      <td>1</td>\n",
              "      <td>10</td>\n",
              "      <td>1</td>\n",
              "    </tr>\n",
              "    <tr>\n",
              "      <th>8</th>\n",
              "      <td>65.0</td>\n",
              "      <td>0</td>\n",
              "      <td>157</td>\n",
              "      <td>0</td>\n",
              "      <td>65</td>\n",
              "      <td>0</td>\n",
              "      <td>263358.03</td>\n",
              "      <td>1.5</td>\n",
              "      <td>138</td>\n",
              "      <td>0</td>\n",
              "      <td>0</td>\n",
              "      <td>10</td>\n",
              "      <td>1</td>\n",
              "    </tr>\n",
              "    <tr>\n",
              "      <th>9</th>\n",
              "      <td>80.0</td>\n",
              "      <td>1</td>\n",
              "      <td>123</td>\n",
              "      <td>0</td>\n",
              "      <td>35</td>\n",
              "      <td>1</td>\n",
              "      <td>388000.00</td>\n",
              "      <td>9.4</td>\n",
              "      <td>133</td>\n",
              "      <td>1</td>\n",
              "      <td>1</td>\n",
              "      <td>10</td>\n",
              "      <td>1</td>\n",
              "    </tr>\n",
              "  </tbody>\n",
              "</table>\n",
              "</div>"
            ],
            "text/plain": [
              "    age  anaemia  creatinine_phosphokinase  diabetes  ejection_fraction  \\\n",
              "0  75.0        0                       582         0                 20   \n",
              "1  55.0        0                      7861         0                 38   \n",
              "2  65.0        0                       146         0                 20   \n",
              "3  50.0        1                       111         0                 20   \n",
              "4  65.0        1                       160         1                 20   \n",
              "5  90.0        1                        47         0                 40   \n",
              "6  75.0        1                       246         0                 15   \n",
              "7  60.0        1                       315         1                 60   \n",
              "8  65.0        0                       157         0                 65   \n",
              "9  80.0        1                       123         0                 35   \n",
              "\n",
              "   high_blood_pressure  platelets  serum_creatinine  serum_sodium  sex  \\\n",
              "0                    1  265000.00               1.9           130    1   \n",
              "1                    0  263358.03               1.1           136    1   \n",
              "2                    0  162000.00               1.3           129    1   \n",
              "3                    0  210000.00               1.9           137    1   \n",
              "4                    0  327000.00               2.7           116    0   \n",
              "5                    1  204000.00               2.1           132    1   \n",
              "6                    0  127000.00               1.2           137    1   \n",
              "7                    0  454000.00               1.1           131    1   \n",
              "8                    0  263358.03               1.5           138    0   \n",
              "9                    1  388000.00               9.4           133    1   \n",
              "\n",
              "   smoking  time  DEATH_EVENT  \n",
              "0        0     4            1  \n",
              "1        0     6            1  \n",
              "2        1     7            1  \n",
              "3        0     7            1  \n",
              "4        0     8            1  \n",
              "5        1     8            1  \n",
              "6        0    10            1  \n",
              "7        1    10            1  \n",
              "8        0    10            1  \n",
              "9        1    10            1  "
            ]
          },
          "execution_count": 3,
          "metadata": {},
          "output_type": "execute_result"
        }
      ],
      "source": [
        "\n",
        "input_ = \"heart_failure_clinical_records_dataset.csv\"\n",
        "data = pd.read_csv(input_)\n",
        "df = data.copy()\n",
        "\n",
        "data.head(10)"
      ]
    },
    {
      "cell_type": "code",
      "execution_count": null,
      "id": "a47047ad",
      "metadata": {
        "id": "a47047ad"
      },
      "outputs": [],
      "source": [
        "inp_data = data.drop(data[['DEATH_EVENT']], axis=1)\n",
        "out_data = data[['DEATH_EVENT']]\n",
        "\n",
        "scaler = MinMaxScaler()\n",
        "inp_data = scaler.fit_transform(inp_data)\n",
        "\n",
        "X_train, X_test, y_train, y_test = train_test_split(inp_data, out_data, test_size=0.2, random_state=42)"
      ]
    },
    {
      "cell_type": "code",
      "execution_count": null,
      "id": "25e6d474",
      "metadata": {
        "id": "25e6d474",
        "outputId": "9650804c-9d24-4345-adc7-e409ddbc91ff"
      },
      "outputs": [
        {
          "name": "stdout",
          "output_type": "stream",
          "text": [
            "Accuracy Score: 0.7833\n",
            "SVC f1-score  : 0.6667\n",
            "SVC precision : 0.5200\n",
            "SVC recall    : 0.9286\n",
            "\n",
            "               precision    recall  f1-score   support\n",
            "\n",
            "           0       0.97      0.74      0.84        46\n",
            "           1       0.52      0.93      0.67        14\n",
            "\n",
            "    accuracy                           0.78        60\n",
            "   macro avg       0.75      0.83      0.75        60\n",
            "weighted avg       0.87      0.78      0.80        60\n",
            "\n"
          ]
        }
      ],
      "source": [
        "from sklearn.neural_network import MLPClassifier\n",
        "\n",
        "mlpc_model = MLPClassifier(random_state=42)\n",
        "mlpc_model.fit(X_train, y_train)\n",
        "y_pred = mlpc_model.predict(X_test)\n",
        "\n",
        "print('Accuracy Score: {:.4f}'.format(accuracy_score(y_test, y_pred)))\n",
        "print('SVC f1-score  : {:.4f}'.format(f1_score(y_pred, y_test)))\n",
        "print('SVC precision : {:.4f}'.format(precision_score(y_pred, y_test)))\n",
        "print('SVC recall    : {:.4f}'.format(recall_score(y_pred, y_test)))\n",
        "print(\"\\n\",classification_report(y_pred, y_test))"
      ]
    },
    {
      "cell_type": "code",
      "execution_count": null,
      "id": "866c4892",
      "metadata": {
        "id": "866c4892",
        "outputId": "989203ad-72bf-43e6-b42f-6cd1d1359856"
      },
      "outputs": [
        {
          "name": "stdout",
          "output_type": "stream",
          "text": [
            "Fitting 10 folds for each of 144 candidates, totalling 1440 fits\n"
          ]
        },
        {
          "data": {
            "text/plain": [
              "{'activation': 'identity',\n",
              " 'alpha': 0.0001,\n",
              " 'hidden_layer_sizes': (50, 50, 50),\n",
              " 'learning_rate': 'constant',\n",
              " 'solver': 'adam'}"
            ]
          },
          "execution_count": 6,
          "metadata": {},
          "output_type": "execute_result"
        }
      ],
      "source": [
        "activation = list(['identity', 'logistic', 'tanh', 'relu'])\n",
        "solver = list(['lbfgs', 'sgd', 'adam'])\n",
        "alpha = list([0.0001, 0.05])\n",
        "learning_rate = list(['constant','adaptive'])\n",
        "hidden_layer_sizes = list([(50,50,50), (50,100,50), (100,)])\n",
        "\n",
        "param_grid = dict(\n",
        "    activation = activation,\n",
        "    solver = solver,\n",
        "    alpha = alpha,\n",
        "    learning_rate = learning_rate,\n",
        "    hidden_layer_sizes = hidden_layer_sizes\n",
        ")\n",
        "\n",
        "mlp = MLPClassifier(max_iter=100)\n",
        "clf = GridSearchCV(mlp, param_grid, cv=10, n_jobs=-1, verbose=2)\n",
        "clf.fit(X_train, y_train)\n",
        "clf.best_params_"
      ]
    },
    {
      "cell_type": "code",
      "execution_count": null,
      "id": "77a3ec40",
      "metadata": {
        "id": "77a3ec40",
        "outputId": "475146db-4af7-46a5-d8bd-9a35cbf39b9c"
      },
      "outputs": [
        {
          "name": "stdout",
          "output_type": "stream",
          "text": [
            "Accuracy Score: 0.8167\n",
            "SVC f1-score  : 0.7317\n",
            "SVC precision : 0.6000\n",
            "SVC recall    : 0.9375\n",
            "\n",
            "               precision    recall  f1-score   support\n",
            "\n",
            "           0       0.97      0.77      0.86        44\n",
            "           1       0.60      0.94      0.73        16\n",
            "\n",
            "    accuracy                           0.82        60\n",
            "   macro avg       0.79      0.86      0.80        60\n",
            "weighted avg       0.87      0.82      0.83        60\n",
            "\n"
          ]
        }
      ],
      "source": [
        "mlpc_model = MLPClassifier(\n",
        "    activation=\"identity\",\n",
        "    alpha=0.0001,\n",
        "    hidden_layer_sizes= (50, 50, 50),\n",
        "    learning_rate= 'constant',\n",
        "    solver= 'adam',\n",
        "    random_state=42).fit(X_train, y_train)\n",
        "y_pred = mlpc_model.predict(X_test)\n",
        "\n",
        "print('Accuracy Score: {:.4f}'.format(accuracy_score(y_test, y_pred)))\n",
        "print('SVC f1-score  : {:.4f}'.format(f1_score(y_pred, y_test)))\n",
        "print('SVC precision : {:.4f}'.format(precision_score(y_pred, y_test)))\n",
        "print('SVC recall    : {:.4f}'.format(recall_score(y_pred, y_test)))\n",
        "print(\"\\n\",classification_report(y_pred, y_test))"
      ]
    },
    {
      "cell_type": "code",
      "execution_count": null,
      "id": "be27a8f8",
      "metadata": {
        "id": "be27a8f8",
        "outputId": "88cd4b9c-dbc4-43ab-a26b-e9f78d9e199e"
      },
      "outputs": [
        {
          "data": {
            "text/plain": [
              "<Axes: >"
            ]
          },
          "execution_count": 9,
          "metadata": {},
          "output_type": "execute_result"
        },
        {
          "data": {
            "image/png": "[encoded data removed]",
            "text/plain": [
              "<Figure size 640x480 with 2 Axes>"
            ]
          },
          "metadata": {},
          "output_type": "display_data"
        }
      ],
      "source": [
        "cf_matrix = confusion_matrix(y_pred, y_test)\n",
        "sns.heatmap((cf_matrix / np.sum(cf_matrix)*100), annot = True, fmt=\".2f\", cmap=\"Blues\")"
      ]
    },
    {
      "cell_type": "code",
      "execution_count": null,
      "id": "420fcc90",
      "metadata": {
        "id": "420fcc90",
        "outputId": "ac218c8c-4cf7-4065-b2c9-ebd6ecfdaf6f"
      },
      "outputs": [
        {
          "name": "stdout",
          "output_type": "stream",
          "text": [
            "X_train Shape :  (324, 12)\n",
            "X_test Shape  :  (82, 12)\n",
            "y_train Shape :  (324, 1)\n",
            "y_test Shape  :  (82, 1)\n"
          ]
        }
      ],
      "source": [
        "from imblearn.over_sampling import SMOTE\n",
        "\n",
        "sms = SMOTE(random_state=12345)\n",
        "X_res, y_res = sms.fit_resample(inp_data, out_data)\n",
        "X_train, X_test, y_train, y_test = train_test_split(X_res, y_res, test_size=0.2, random_state=42)\n",
        "\n",
        "print(\"X_train Shape : \", X_train.shape)\n",
        "print(\"X_test Shape  : \", X_test.shape)\n",
        "print(\"y_train Shape : \", y_train.shape)\n",
        "print(\"y_test Shape  : \", y_test.shape)"
      ]
    },
    {
      "cell_type": "code",
      "execution_count": null,
      "id": "e4862bb2",
      "metadata": {
        "id": "e4862bb2",
        "outputId": "1a63da33-fe36-468a-a364-75dfcd4216f2"
      },
      "outputs": [
        {
          "name": "stdout",
          "output_type": "stream",
          "text": [
            "Fitting 10 folds for each of 144 candidates, totalling 1440 fits\n"
          ]
        },
        {
          "data": {
            "text/plain": [
              "{'activation': 'relu',\n",
              " 'alpha': 0.05,\n",
              " 'hidden_layer_sizes': (100,),\n",
              " 'learning_rate': 'constant',\n",
              " 'solver': 'lbfgs'}"
            ]
          },
          "execution_count": 12,
          "metadata": {},
          "output_type": "execute_result"
        }
      ],
      "source": [
        "activation = list(['identity', 'logistic', 'tanh', 'relu'])\n",
        "solver = list(['lbfgs', 'sgd', 'adam'])\n",
        "alpha = list([0.0001, 0.05])\n",
        "learning_rate = list(['constant','adaptive'])\n",
        "hidden_layer_sizes = list([(50,50,50), (50,100,50), (100,)])\n",
        "\n",
        "param_grid = dict(\n",
        "    activation = activation,\n",
        "    solver = solver,\n",
        "    alpha = alpha,\n",
        "    learning_rate = learning_rate,\n",
        "    hidden_layer_sizes = hidden_layer_sizes\n",
        ")\n",
        "\n",
        "mlp = MLPClassifier(max_iter=100)\n",
        "clf = GridSearchCV(mlp, param_grid, cv=10, n_jobs=-1, verbose=2)\n",
        "clf.fit(X_train, y_train)\n",
        "clf.best_params_"
      ]
    },
    {
      "cell_type": "code",
      "execution_count": null,
      "id": "68bdc3d3",
      "metadata": {
        "id": "68bdc3d3",
        "outputId": "873ec722-f4d8-4f64-c7f5-b056282d2359"
      },
      "outputs": [
        {
          "name": "stdout",
          "output_type": "stream",
          "text": [
            "Accuracy Score: 0.8049\n",
            "SVC f1-score  : 0.8222\n",
            "SVC precision : 0.9024\n",
            "SVC recall    : 0.7551\n",
            "\n",
            "               precision    recall  f1-score   support\n",
            "\n",
            "           0       0.71      0.88      0.78        33\n",
            "           1       0.90      0.76      0.82        49\n",
            "\n",
            "    accuracy                           0.80        82\n",
            "   macro avg       0.80      0.82      0.80        82\n",
            "weighted avg       0.82      0.80      0.81        82\n",
            "\n"
          ]
        }
      ],
      "source": [
        "mlpc_model = MLPClassifier(\n",
        "    activation=\"relu\",\n",
        "    alpha=0.05,\n",
        "    hidden_layer_sizes= (100,),\n",
        "    learning_rate= 'adaptive',\n",
        "    solver= 'lbfgs',\n",
        "    random_state=42).fit(X_train, y_train)\n",
        "y_pred = mlpc_model.predict(X_test)\n",
        "\n",
        "print('Accuracy Score: {:.4f}'.format(accuracy_score(y_test, y_pred)))\n",
        "print('SVC f1-score  : {:.4f}'.format(f1_score(y_pred, y_test)))\n",
        "print('SVC precision : {:.4f}'.format(precision_score(y_pred, y_test)))\n",
        "print('SVC recall    : {:.4f}'.format(recall_score(y_pred, y_test)))\n",
        "print(\"\\n\",classification_report(y_pred, y_test))"
      ]
    },
    {
      "cell_type": "code",
      "execution_count": null,
      "id": "2b91a9a5",
      "metadata": {
        "id": "2b91a9a5",
        "outputId": "8cfa42c1-aaae-4357-c07a-b2fd0aa04393"
      },
      "outputs": [
        {
          "data": {
            "text/plain": [
              "<Axes: >"
            ]
          },
          "execution_count": 14,
          "metadata": {},
          "output_type": "execute_result"
        },
        {
          "data": {
            "image/png": "[encoded data removed]",
            "text/plain": [
              "<Figure size 640x480 with 2 Axes>"
            ]
          },
          "metadata": {},
          "output_type": "display_data"
        }
      ],
      "source": [
        "cf_matrix = confusion_matrix(y_pred, y_test)\n",
        "sns.heatmap((cf_matrix / np.sum(cf_matrix)*100), annot = True, fmt=\".2f\", cmap=\"Blues\")"
      ]
    },
    {
      "cell_type": "code",
      "execution_count": null,
      "id": "d9ccc4ad",
      "metadata": {
        "id": "d9ccc4ad",
        "outputId": "3364f871-df2d-4fed-93fe-498380d50d40"
      },
      "outputs": [
        {
          "data": {
            "image/png": "[encoded data removed]",
            "text/plain": [
              "<Figure size 640x480 with 1 Axes>"
            ]
          },
          "metadata": {},
          "output_type": "display_data"
        }
      ],
      "source": [
        "scores = []\n",
        "for i in range(0,500):\n",
        "    X_train, X_test, y_train, y_test = train_test_split(X_res, y_res, test_size=0.2)\n",
        "    mlpc_model = MLPClassifier(\n",
        "        activation=\"relu\",\n",
        "        alpha=0.05,\n",
        "        hidden_layer_sizes= (100,),\n",
        "        learning_rate= 'adaptive',\n",
        "        solver= 'lbfgs',\n",
        "        random_state=42).fit(X_train, y_train)\n",
        "    y_pred = mlpc_model.predict(X_test)\n",
        "    scores.append(accuracy_score(y_pred, y_test))\n",
        "\n",
        "plt.hist(scores)\n",
        "plt.show()"
      ]
    },
    {
      "cell_type": "code",
      "execution_count": null,
      "id": "7b09f7b5",
      "metadata": {
        "id": "7b09f7b5"
      },
      "outputs": [],
      "source": []
    }
  ],
  "metadata": {
    "kernelspec": {
      "display_name": "Python 3 (ipykernel)",
      "language": "python",
      "name": "python3"
    },
    "language_info": {
      "codemirror_mode": {
        "name": "ipython",
        "version": 3
      },
      "file_extension": ".py",
      "mimetype": "text/x-python",
      "name": "python",
      "nbconvert_exporter": "python",
      "pygments_lexer": "ipython3",
      "version": "3.10.9"
    },
    "colab": {
      "provenance": [],
      "include_colab_link": true
    }
  },
  "nbformat": 4,
  "nbformat_minor": 5
}